{
 "cells": [
  {
   "cell_type": "markdown",
   "metadata": {},
   "source": [
    "# 離散分布描画 !! 修正必要 !!"
   ]
  },
  {
   "cell_type": "code",
   "execution_count": 2,
   "metadata": {},
   "outputs": [],
   "source": [
    "import numpy as np\n",
    "import pandas as pd\n",
    "import scipy.stats\n",
    "from scipy.stats import norm\n",
    "from scipy.stats import lognorm\n",
    "import matplotlib.pyplot as plt\n",
    "import seaborn as sns\n",
    "%matplotlib inline\n",
    "sns.set();"
   ]
  },
  {
   "cell_type": "markdown",
   "metadata": {},
   "source": [
    "## 分散のみ変化させる正規分布gif画像作成"
   ]
  },
  {
   "cell_type": "code",
   "execution_count": 20,
   "metadata": {},
   "outputs": [
    {
     "name": "stderr",
     "output_type": "stream",
     "text": [
      "MovieWriter imagemagick unavailable; using Pillow instead.\n"
     ]
    },
    {
     "data": {
      "image/png": "[encoded data removed]",
      "text/plain": [
       "<Figure size 432x288 with 1 Axes>"
      ]
     },
     "metadata": {},
     "output_type": "display_data"
    }
   ],
   "source": [
    "import numpy as np\n",
    "import matplotlib.pyplot as plt\n",
    "import matplotlib.animation as animation\n",
    "from IPython.display import HTML\n",
    "from scipy.stats import norm\n",
    "\n",
    "sns.set()\n",
    "sns.set_style('darkgrid')\n",
    "\n",
    "fig, ax = plt.subplots()\n",
    "\n",
    "def update(num,x,y,scales,lines):\n",
    "    if len(lines) > 0:\n",
    "        lines.pop().remove()\n",
    "    y_ = np.random.binomial(x,0.5)\n",
    "    line, = ax.plot(x, y_,c=\"b\")\n",
    "    lines.append(line)\n",
    "    sig = 'n='\n",
    "    ax.set_title(sig + str(scales[num])[:4])\n",
    "\n",
    "ax.set_xlim(0, 20)\n",
    "ax.set_ylim(0, 0.3)\n",
    "# ax.set_xlabel('x')\n",
    "# ax.set_ylabel('p(x)')\n",
    "\n",
    "x = np.linspace(0,20,21)\n",
    "x = x.astype(np.int64)\n",
    "y = np.random.binomial(x,0.5)\n",
    "scales = np.linspace(0, 20, 101)\n",
    "# theta= np.linspace(np.pi/101, 100/101*np.pi, 100)\n",
    "# scales = 5*np.sin(theta)\n",
    "\n",
    "lines = []\n",
    "\n",
    "ani = animation.FuncAnimation(fig, update, 100, fargs=(x,y,scales,lines), interval=100)\n",
    "# HTML(ani.to_html5_video())\n",
    "dpi=100\n",
    "ani.save('anim3.gif', writer=\"imagemagick\")\n",
    "# ani.save('gauss_scale.mp4', writer=\"ffmpeg\",dpi=dpi)"
   ]
  },
  {
   "cell_type": "code",
   "execution_count": null,
   "metadata": {},
   "outputs": [],
   "source": []
  }
 ],
 "metadata": {
  "kernelspec": {
   "display_name": "Python 3",
   "language": "python",
   "name": "python3"
  },
  "language_info": {
   "codemirror_mode": {
    "name": "ipython",
    "version": 3
   },
   "file_extension": ".py",
   "mimetype": "text/x-python",
   "name": "python",
   "nbconvert_exporter": "python",
   "pygments_lexer": "ipython3",
   "version": "3.8.5"
  }
 },
 "nbformat": 4,
 "nbformat_minor": 4
}
