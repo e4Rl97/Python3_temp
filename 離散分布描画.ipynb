{
 "cells": [
  {
   "cell_type": "code",
   "execution_count": 1,
   "metadata": {},
   "outputs": [],
   "source": [
    "import numpy as np\n",
    "import pandas as pd\n",
    "import scipy.stats\n",
    "from scipy.stats import norm\n",
    "from scipy.stats import lognorm\n",
    "import matplotlib.pyplot as plt\n",
    "import seaborn as sns\n",
    "%matplotlib inline"
   ]
  },
  {
   "cell_type": "code",
   "execution_count": 3,
   "metadata": {},
   "outputs": [
    {
     "data": {
      "text/plain": [
       "[(0, 14)]"
      ]
     },
     "execution_count": 3,
     "metadata": {},
     "output_type": "execute_result"
    },
    {
     "data": {
      "image/png": "[encoded data removed]",
      "text/plain": [
       "<Figure size 432x288 with 1 Axes>"
      ]
     },
     "metadata": {},
     "output_type": "display_data"
    }
   ],
   "source": [
    "sns.set()\n",
    "y = np.random.lognormal(0,1,10000)\n",
    "y = pd.DataFrame(y)\n",
    "ax = sns.distplot(y, bins=330) #分布をグラフ化\n",
    "ax.set(xlim=(0,14))"
   ]
  },
  {
   "cell_type": "markdown",
   "metadata": {},
   "source": [
    "## 分散のみ変化させる正規分布gif画像作成"
   ]
  },
  {
   "cell_type": "code",
   "execution_count": null,
   "metadata": {},
   "outputs": [],
   "source": [
    "import numpy as np\n",
    "import matplotlib.pyplot as plt\n",
    "import matplotlib.animation as animation\n",
    "from IPython.display import HTML\n",
    "from scipy.stats import norm\n",
    "\n",
    "sns.set()\n",
    "sns.set_style('darkgrid')\n",
    "\n",
    "fig, ax = plt.subplots()\n",
    "\n",
    "def update(num,x,y,scales,lines):\n",
    "    if len(lines) > 0:\n",
    "        lines.pop().remove()\n",
    "    y_ =norm.pdf(x,loc=0,scale=scales[num])\n",
    "    line, = ax.plot(x, y_,c=\"b\")\n",
    "    lines.append(line)\n",
    "    sig = 'σ='\n",
    "    ax.set_title(sig + str(scales[num])[:4])\n",
    "\n",
    "ax.set_xlim(-10.5, 10.5)\n",
    "ax.set_ylim(0, 1.1)\n",
    "ax.set_xlabel('x')\n",
    "ax.set_ylabel('p(x)')\n",
    "\n",
    "x = np.linspace(-10,10,100)\n",
    "y= norm.pdf(x,loc=0,scale=1)\n",
    "scales = np.linspace(0.05, 5.0, 100)\n",
    "theta= np.linspace(np.pi/101, 100/101*np.pi, 100)\n",
    "scales = 5*np.sin(theta)\n",
    "\n",
    "lines = []\n",
    "\n",
    "ani = animation.FuncAnimation(fig, update, 100, fargs=(x,y,scales,lines), interval=100)\n",
    "# HTML(ani.to_html5_video())\n",
    "dpi=100\n",
    "ani.save('anim2.gif', writer=\"imagemagick\")\n",
    "# ani.save('gauss_scale.mp4', writer=\"ffmpeg\",dpi=dpi)"
   ]
  }
 ],
 "metadata": {
  "kernelspec": {
   "display_name": "Python 3",
   "language": "python",
   "name": "python3"
  },
  "language_info": {
   "codemirror_mode": {
    "name": "ipython",
    "version": 3
   },
   "file_extension": ".py",
   "mimetype": "text/x-python",
   "name": "python",
   "nbconvert_exporter": "python",
   "pygments_lexer": "ipython3",
   "version": "3.8.5"
  }
 },
 "nbformat": 4,
 "nbformat_minor": 4
}
